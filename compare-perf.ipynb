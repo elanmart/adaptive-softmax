{
 "cells": [
  {
   "cell_type": "code",
   "execution_count": null,
   "metadata": {},
   "outputs": [],
   "source": [
    "import subprocess"
   ]
  },
  {
   "cell_type": "code",
   "execution_count": null,
   "metadata": {},
   "outputs": [],
   "source": [
    "def run(cmd, nhid, batch, niter, cutoff, ntoken):\n",
    "    \n",
    "    cutoff = ','.join(str(c) for c in cutoff)\n",
    "    cmd    = f'{cmd} -nhid {nhid} -batch {batch} -niter {niter} -cutoff {cutoff} -ntoken {ntoken}'\n",
    "\n",
    "    ret    = subprocess.check_output(cmd.split())\n",
    "    ret    = float(ret.decode().strip())\n",
    "    \n",
    "    return {\n",
    "        'cmd':  cmd.split()[0],\n",
    "        'time': ret,\n",
    "        'args': dict(nhid=nhid, batch=batch, niter=niter, cutoff=cutoff, ntoken=ntoken),\n",
    "    }"
   ]
  },
  {
   "cell_type": "code",
   "execution_count": null,
   "metadata": {},
   "outputs": [],
   "source": [
    "PY  = 'python ./test_perf.py'\n",
    "LUA = 'th ./test_perf.lua'"
   ]
  },
  {
   "cell_type": "code",
   "execution_count": null,
   "metadata": {},
   "outputs": [],
   "source": [
    "results   = []\n",
    "iteration = 1\n",
    "niter     = 2_000\n",
    "\n",
    "for nhid in [64, 256, 512]:\n",
    "    for batch in [16, 64]:\n",
    "        for cutoff in [ [5_000, 50_000], [3_000, 10_000, 33_000] ]:\n",
    "            for ntoken in [100_000]:\n",
    "                \n",
    "                ret_py  = run(PY,  nhid, batch, niter, cutoff, ntoken)\n",
    "                ret_lua = run(LUA, nhid, batch, niter, cutoff, ntoken)\n",
    "\n",
    "                results += [ret_py, ret_lua]"
   ]
  }
 ],
 "metadata": {
  "kernelspec": {
   "display_name": "Python [conda root]",
   "language": "python",
   "name": "conda-root-py"
  },
  "language_info": {
   "codemirror_mode": {
    "name": "ipython",
    "version": 3
   },
   "file_extension": ".py",
   "mimetype": "text/x-python",
   "name": "python",
   "nbconvert_exporter": "python",
   "pygments_lexer": "ipython3",
   "version": "3.6.5"
  },
  "latex_envs": {
   "LaTeX_envs_menu_present": true,
   "autocomplete": true,
   "bibliofile": "biblio.bib",
   "cite_by": "apalike",
   "current_citInitial": 1,
   "eqLabelWithNumbers": true,
   "eqNumInitial": 1,
   "hotkeys": {
    "equation": "Ctrl-E",
    "itemize": "Ctrl-I"
   },
   "labels_anchors": false,
   "latex_user_defs": false,
   "report_style_numbering": false,
   "user_envs_cfg": false
  }
 },
 "nbformat": 4,
 "nbformat_minor": 2
}
